{
 "cells": [
  {
   "cell_type": "markdown",
   "metadata": {
    "run_control": {
     "frozen": false,
     "read_only": false
    }
   },
   "source": [
    "# Assignment 2 : exercises with linear regression using statsmodels\n",
    "\n",
    "yg833\n",
    "\n",
    "Skeleton notebook provided by Dr. Bianco\n",
    "\n",
    "**exercises with statsmodels OLS and WLS**\n",
    "*created by fbb November 2018*\n"
   ]
  },
  {
   "cell_type": "code",
   "execution_count": 1,
   "metadata": {
    "ExecuteTime": {
     "end_time": "2018-11-08T18:05:35.078740Z",
     "start_time": "2018-11-08T18:05:35.037891Z"
    },
    "run_control": {
     "frozen": false,
     "read_only": false
    }
   },
   "outputs": [],
   "source": [
    "from __future__ import print_function, division\n",
    "from matplotlib import pyplot as plt\n",
    "\n",
    "import os\n",
    "import json\n",
    "\n",
    "import statsmodels.api as sm\n",
    "import statsmodels.formula.api as smf\n",
    "\n",
    "import numpy as np\n",
    "\n",
    "%matplotlib inline"
   ]
  },
  {
   "cell_type": "code",
   "execution_count": 2,
   "metadata": {
    "ExecuteTime": {
     "end_time": "2018-11-08T18:05:35.950830Z",
     "start_time": "2018-11-08T18:05:35.933414Z"
    },
    "run_control": {
     "frozen": false,
     "read_only": false
    }
   },
   "outputs": [],
   "source": [
    "# since the function has random in it , decided to seed\n",
    "np.random.seed(78)\n",
    "\n",
    "# errors function and the line function provided by Dr. Bianco\n",
    "def errors(x):\n",
    "    return np.sqrt(x)\n",
    "    \n",
    "def line(a, x, b=0, errors=None):\n",
    "    '''\n",
    "    creates a line from parameters and exogenous variable\n",
    "    a: slope\n",
    "    x: exogenous variable\n",
    "    b: intercept - default 0\n",
    "    errors: add uncertainties (sqrt(N) - default True)\n",
    "    '''\n",
    "    np.random.randn(123)\n",
    "    if errors is None:\n",
    "        return a*x + b \n",
    "    else:\n",
    "        return a*x + b + np.random.randn(len(x)) * errors(x)"
   ]
  },
  {
   "cell_type": "markdown",
   "metadata": {},
   "source": [
    "## 1. create a line with a chosen slope and intercept = 0 and plot it with uncertainties as errorbars\n",
    "use the functions created above"
   ]
  },
  {
   "cell_type": "code",
   "execution_count": 3,
   "metadata": {},
   "outputs": [],
   "source": [
    "## generate a an array of 10 integers between 0 and 100 as rendered in plot from Dr. Bianco\n",
    "a = 0.75 # slope 3/4 as float\n",
    "x = np.linspace(0, 100, 10) # exogenuous variable array of evenly spaced integers\n",
    "\n",
    "y = line(a, x, b = 0, errors=errors)"
   ]
  },
  {
   "cell_type": "code",
   "execution_count": 4,
   "metadata": {},
   "outputs": [
    {
     "data": {
      "text/plain": [
       "array([  0.        ,   7.47729001,  16.43794512,  21.27827018,\n",
       "        25.15898231,  47.10373613,  46.74640248,  53.85663891,\n",
       "        69.65863018,  83.79623467])"
      ]
     },
     "execution_count": 4,
     "metadata": {},
     "output_type": "execute_result"
    }
   ],
   "source": [
    "y # just to see what the y looks like"
   ]
  },
  {
   "cell_type": "code",
   "execution_count": 5,
   "metadata": {},
   "outputs": [
    {
     "data": {
      "text/plain": [
       "Text(0.5,1,'Exogenuous vs Endogenuous Variables with Error Bars')"
      ]
     },
     "execution_count": 5,
     "metadata": {},
     "output_type": "execute_result"
    },
    {
     "data": {
      "image/png": "[encoded data removed]",
      "text/plain": [
       "<matplotlib.figure.Figure at 0x7f34b73e82e8>"
      ]
     },
     "metadata": {},
     "output_type": "display_data"
    }
   ],
   "source": [
    "# reference https://matplotlib.org/1.2.1/examples/pylab_examples/errorbar_demo.html\n",
    "plt.figure(figsize=(7,5))\n",
    "plt.errorbar(x, y, yerr=errors(x), fmt = 'o')\n",
    "plt.xlabel('Exogenuous')\n",
    "plt.ylabel('Endogenuous')\n",
    "plt.title('Exogenuous vs Endogenuous Variables with Error Bars')"
   ]
  },
  {
   "cell_type": "markdown",
   "metadata": {},
   "source": [
    "### Figure 1: Exogenuous vs Endogenuous Variables with Error Bars\n",
    "This plot was resultant from using the line function with the slope set at 0.75 and intercept at 0.\n",
    "\n",
    "y = 0.75 * X + 0"
   ]
  },
  {
   "cell_type": "markdown",
   "metadata": {
    "run_control": {
     "frozen": false,
     "read_only": false
    }
   },
   "source": [
    "# 2. print y, x, and the result of applying statsmodels.api.add_constant() to x"
   ]
  },
  {
   "cell_type": "code",
   "execution_count": 6,
   "metadata": {
    "run_control": {
     "frozen": false,
     "read_only": false
    }
   },
   "outputs": [
    {
     "name": "stdout",
     "output_type": "stream",
     "text": [
      "y= [  0.           7.47729001  16.43794512  21.27827018  25.15898231\n",
      "  47.10373613  46.74640248  53.85663891  69.65863018  83.79623467]\n"
     ]
    }
   ],
   "source": [
    "## Y\n",
    "print('y=', y)"
   ]
  },
  {
   "cell_type": "code",
   "execution_count": 7,
   "metadata": {},
   "outputs": [
    {
     "name": "stdout",
     "output_type": "stream",
     "text": [
      "x= [   0.           11.11111111   22.22222222   33.33333333   44.44444444\n",
      "   55.55555556   66.66666667   77.77777778   88.88888889  100.        ]\n"
     ]
    }
   ],
   "source": [
    "# X\n",
    "print('x=', x)"
   ]
  },
  {
   "cell_type": "code",
   "execution_count": 8,
   "metadata": {},
   "outputs": [
    {
     "data": {
      "text/plain": [
       "array([[   1.        ,    0.        ],\n",
       "       [   1.        ,   11.11111111],\n",
       "       [   1.        ,   22.22222222],\n",
       "       [   1.        ,   33.33333333],\n",
       "       [   1.        ,   44.44444444],\n",
       "       [   1.        ,   55.55555556],\n",
       "       [   1.        ,   66.66666667],\n",
       "       [   1.        ,   77.77777778],\n",
       "       [   1.        ,   88.88888889],\n",
       "       [   1.        ,  100.        ]])"
      ]
     },
     "execution_count": 8,
     "metadata": {},
     "output_type": "execute_result"
    }
   ],
   "source": [
    "sm.add_constant(x)"
   ]
  },
  {
   "cell_type": "markdown",
   "metadata": {
    "run_control": {
     "frozen": false,
     "read_only": false
    }
   },
   "source": [
    "# 3. use statsmodels.api.OLS to fit x and y \n",
    "- a. *the wrong way*: by passing x as exogenous variable\n",
    "- b. *the right way*: by passing statsmodels.api.add_constant(x) as exogenous variable\n",
    "\n",
    "# and print the model summary for each and discuss the differences"
   ]
  },
  {
   "cell_type": "code",
   "execution_count": 9,
   "metadata": {
    "ExecuteTime": {
     "end_time": "2018-11-08T17:14:00.771892Z",
     "start_time": "2018-11-08T17:14:00.720962Z"
    },
    "run_control": {
     "frozen": false,
     "read_only": false
    }
   },
   "outputs": [
    {
     "name": "stdout",
     "output_type": "stream",
     "text": [
      "                            OLS Regression Results                            \n",
      "==============================================================================\n",
      "Dep. Variable:                      y   R-squared:                       0.989\n",
      "Model:                            OLS   Adj. R-squared:                  0.988\n",
      "Method:                 Least Squares   F-statistic:                     818.8\n",
      "Date:                Tue, 13 Nov 2018   Prob (F-statistic):           3.78e-10\n",
      "Time:                        23:56:00   Log-Likelihood:                -29.731\n",
      "No. Observations:                  10   AIC:                             61.46\n",
      "Df Residuals:                       9   BIC:                             61.77\n",
      "Df Model:                           1                                         \n",
      "Covariance Type:            nonrobust                                         \n",
      "==============================================================================\n",
      "                 coef    std err          t      P>|t|      [95.0% Conf. Int.]\n",
      "------------------------------------------------------------------------------\n",
      "x1             0.7608      0.027     28.615      0.000         0.701     0.821\n",
      "==============================================================================\n",
      "Omnibus:                        0.172   Durbin-Watson:                   1.711\n",
      "Prob(Omnibus):                  0.917   Jarque-Bera (JB):                0.280\n",
      "Skew:                           0.232   Prob(JB):                        0.870\n",
      "Kurtosis:                       2.326   Cond. No.                         1.00\n",
      "==============================================================================\n",
      "\n",
      "Warnings:\n",
      "[1] Standard Errors assume that the covariance matrix of the errors is correctly specified.\n"
     ]
    },
    {
     "name": "stderr",
     "output_type": "stream",
     "text": [
      "/usr/local/Anaconda3-5.0.0-Linux-x86_64/envs/PUI2016_Python3/lib/python3.5/site-packages/scipy/stats/stats.py:1535: UserWarning: kurtosistest only valid for n>=20 ... continuing anyway, n=10\n",
      "  \"anyway, n=%i\" % int(n))\n"
     ]
    }
   ],
   "source": [
    "#THE WRONG WAY\n",
    "smfit_wrong = smf.OLS(y, x).fit()\n",
    "smfit_wrong.summary()\n",
    "print(smfit_wrong.summary())"
   ]
  },
  {
   "cell_type": "code",
   "execution_count": 10,
   "metadata": {
    "ExecuteTime": {
     "end_time": "2018-11-08T17:14:00.812856Z",
     "start_time": "2018-11-08T17:14:00.775233Z"
    },
    "run_control": {
     "frozen": false,
     "read_only": false
    }
   },
   "outputs": [],
   "source": [
    "#THE RIGHT WAY\n",
    "# referencing: https://www.statsmodels.org/dev/examples/notebooks/generated/ols.html"
   ]
  },
  {
   "cell_type": "code",
   "execution_count": 11,
   "metadata": {
    "run_control": {
     "frozen": false,
     "read_only": false
    }
   },
   "outputs": [],
   "source": [
    "X = sm.add_constant(x) # putting sm.add_constant(x) into 'X' following the tip to do it the right way by passing sm.add_constant(x)"
   ]
  },
  {
   "cell_type": "code",
   "execution_count": 12,
   "metadata": {},
   "outputs": [
    {
     "name": "stdout",
     "output_type": "stream",
     "text": [
      "                            OLS Regression Results                            \n",
      "==============================================================================\n",
      "Dep. Variable:                      y   R-squared:                       0.971\n",
      "Model:                            OLS   Adj. R-squared:                  0.967\n",
      "Method:                 Least Squares   F-statistic:                     268.3\n",
      "Date:                Tue, 13 Nov 2018   Prob (F-statistic):           1.94e-07\n",
      "Time:                        23:56:00   Log-Likelihood:                -29.080\n",
      "No. Observations:                  10   AIC:                             62.16\n",
      "Df Residuals:                       8   BIC:                             62.77\n",
      "Df Model:                           1                                         \n",
      "Covariance Type:            nonrobust                                         \n",
      "==============================================================================\n",
      "                 coef    std err          t      P>|t|      [95.0% Conf. Int.]\n",
      "------------------------------------------------------------------------------\n",
      "const         -3.0725      2.913     -1.055      0.322        -9.790     3.645\n",
      "x1             0.8045      0.049     16.381      0.000         0.691     0.918\n",
      "==============================================================================\n",
      "Omnibus:                        0.845   Durbin-Watson:                   1.921\n",
      "Prob(Omnibus):                  0.655   Jarque-Bera (JB):                0.638\n",
      "Skew:                          -0.237   Prob(JB):                        0.727\n",
      "Kurtosis:                       1.857   Cond. No.                         110.\n",
      "==============================================================================\n",
      "\n",
      "Warnings:\n",
      "[1] Standard Errors assume that the covariance matrix of the errors is correctly specified.\n"
     ]
    },
    {
     "name": "stderr",
     "output_type": "stream",
     "text": [
      "/usr/local/Anaconda3-5.0.0-Linux-x86_64/envs/PUI2016_Python3/lib/python3.5/site-packages/scipy/stats/stats.py:1535: UserWarning: kurtosistest only valid for n>=20 ... continuing anyway, n=10\n",
      "  \"anyway, n=%i\" % int(n))\n"
     ]
    }
   ],
   "source": [
    "smfit_right = smf.OLS(y, X).fit()\n",
    "smfit_right.summary()\n",
    "print(smfit_right.summary())"
   ]
  },
  {
   "cell_type": "markdown",
   "metadata": {
    "run_control": {
     "frozen": false,
     "read_only": false
    }
   },
   "source": [
    "# 4. plot the data (as points) and both statsmodels fits"
   ]
  },
  {
   "cell_type": "code",
   "execution_count": 13,
   "metadata": {},
   "outputs": [
    {
     "data": {
      "image/png": "[encoded data removed]",
      "text/plain": [
       "<matplotlib.figure.Figure at 0x7f34b9d97d68>"
      ]
     },
     "metadata": {},
     "output_type": "display_data"
    }
   ],
   "source": [
    "# reference https://matplotlib.org/1.2.1/examples/pylab_examples/errorbar_demo.html\n",
    "plt.figure(figsize=(12,8))\n",
    "plt.errorbar(x, y, fmt = 'o', label=\"Data Generated from Line Function\")\n",
    "plt.plot(x, smfit_wrong.fittedvalues, label=\"fitted values from *the wrong way*: by passing x as exogenous variable\")\n",
    "plt.plot(x, smfit_right.fittedvalues, label=\"fitted values from *the right way*: by passing statsmodels.api.add_constant(x) as exogenous variable\")\n",
    "# labels\n",
    "plt.xlabel('Exogenuous')\n",
    "plt.ylabel('Endogenuous')\n",
    "plt.title('Exogenuous vs Endogenuous Variables With Both Statsmodels Fits')\n",
    "# legend\n",
    "legend = plt.legend(loc=\"best\")"
   ]
  },
  {
   "cell_type": "markdown",
   "metadata": {},
   "source": [
    "### Figure 2: Plotting both the wrong and right way of using smf.OLS\n",
    "The wrong way was passing x directly, vs the right way was passing x through sm.add_constant(x) into smf.OLS()\n",
    "It seems like the R square values were lowered in the right way than in the wrong. This resembles parts of the reading regarding outliers where around the means the fits are good while further away from the mean at x=0, there are more variances. "
   ]
  },
  {
   "cell_type": "markdown",
   "metadata": {
    "run_control": {
     "frozen": false,
     "read_only": false
    }
   },
   "source": [
    "# 5. create a line with a chosen slope and a chosen intercept >=100*slope and plot it with uncertainties as errorbars"
   ]
  },
  {
   "cell_type": "code",
   "execution_count": 14,
   "metadata": {},
   "outputs": [],
   "source": [
    "## generate a an array of 10 integers between 0 and 100 as rendered in plot from Dr. Bianco\n",
    "a2 = 0.625 # slope 6/8 as float\n",
    "x2 = np.linspace(100, 1000, 50) # exogenuous variable array of evenly spaced integers\n",
    "y2 = line(a2, x2, b=101, errors=errors)"
   ]
  },
  {
   "cell_type": "code",
   "execution_count": 15,
   "metadata": {},
   "outputs": [
    {
     "data": {
      "text/plain": [
       "Text(0.5,1,'Exogenuous vs Endogenuous Variables with Error Bars')"
      ]
     },
     "execution_count": 15,
     "metadata": {},
     "output_type": "execute_result"
    },
    {
     "data": {
      "image/png": "[encoded data removed]",
      "text/plain": [
       "<matplotlib.figure.Figure at 0x7f34b9d97a90>"
      ]
     },
     "metadata": {},
     "output_type": "display_data"
    }
   ],
   "source": [
    "# reference https://matplotlib.org/1.2.1/examples/pylab_examples/errorbar_demo.html\n",
    "plt.figure(figsize=(12,8))\n",
    "plt.errorbar(x2, y2, yerr=errors(x2), fmt = 'o')\n",
    "plt.xlabel('Exogenuous')\n",
    "plt.ylabel('Endogenuous')\n",
    "plt.title('Exogenuous vs Endogenuous Variables with Error Bars')"
   ]
  },
  {
   "cell_type": "markdown",
   "metadata": {},
   "source": [
    "### Figure 3: Exogenuous vs Endogenuous Variables with Error Bars\n",
    "This plot was resultant from using the line function with the slope set at 0.625 and intercept at 101.\n",
    "\n",
    "y = 0.625 * X + 0"
   ]
  },
  {
   "cell_type": "markdown",
   "metadata": {
    "run_control": {
     "frozen": false,
     "read_only": false
    }
   },
   "source": [
    "# 6. repeat step 3"
   ]
  },
  {
   "cell_type": "code",
   "execution_count": 16,
   "metadata": {},
   "outputs": [
    {
     "name": "stdout",
     "output_type": "stream",
     "text": [
      "                            OLS Regression Results                            \n",
      "==============================================================================\n",
      "Dep. Variable:                      y   R-squared:                       0.987\n",
      "Model:                            OLS   Adj. R-squared:                  0.987\n",
      "Method:                 Least Squares   F-statistic:                     3704.\n",
      "Date:                Tue, 13 Nov 2018   Prob (F-statistic):           7.87e-48\n",
      "Time:                        23:56:00   Log-Likelihood:                -271.04\n",
      "No. Observations:                  50   AIC:                             544.1\n",
      "Df Residuals:                      49   BIC:                             546.0\n",
      "Df Model:                           1                                         \n",
      "Covariance Type:            nonrobust                                         \n",
      "==============================================================================\n",
      "                 coef    std err          t      P>|t|      [95.0% Conf. Int.]\n",
      "------------------------------------------------------------------------------\n",
      "x1             0.7790      0.013     60.857      0.000         0.753     0.805\n",
      "==============================================================================\n",
      "Omnibus:                        2.343   Durbin-Watson:                   0.454\n",
      "Prob(Omnibus):                  0.310   Jarque-Bera (JB):                1.757\n",
      "Skew:                          -0.280   Prob(JB):                        0.415\n",
      "Kurtosis:                       2.271   Cond. No.                         1.00\n",
      "==============================================================================\n",
      "\n",
      "Warnings:\n",
      "[1] Standard Errors assume that the covariance matrix of the errors is correctly specified.\n"
     ]
    }
   ],
   "source": [
    "#THE WRONG WAY\n",
    "smfit_wrong2 = smf.OLS(y2, x2).fit()\n",
    "smfit_wrong2.summary()\n",
    "print(smfit_wrong2.summary())"
   ]
  },
  {
   "cell_type": "code",
   "execution_count": 17,
   "metadata": {},
   "outputs": [
    {
     "name": "stdout",
     "output_type": "stream",
     "text": [
      "                            OLS Regression Results                            \n",
      "==============================================================================\n",
      "Dep. Variable:                      y   R-squared:                       0.975\n",
      "Model:                            OLS   Adj. R-squared:                  0.975\n",
      "Method:                 Least Squares   F-statistic:                     1904.\n",
      "Date:                Tue, 13 Nov 2018   Prob (F-statistic):           2.77e-40\n",
      "Time:                        23:56:00   Log-Likelihood:                -233.64\n",
      "No. Observations:                  50   AIC:                             471.3\n",
      "Df Residuals:                      48   BIC:                             475.1\n",
      "Df Model:                           1                                         \n",
      "Covariance Type:            nonrobust                                         \n",
      "==============================================================================\n",
      "                 coef    std err          t      P>|t|      [95.0% Conf. Int.]\n",
      "------------------------------------------------------------------------------\n",
      "const        110.9978      8.608     12.895      0.000        93.691   128.305\n",
      "x1             0.6152      0.014     43.634      0.000         0.587     0.644\n",
      "==============================================================================\n",
      "Omnibus:                        1.437   Durbin-Watson:                   2.015\n",
      "Prob(Omnibus):                  0.488   Jarque-Bera (JB):                1.089\n",
      "Skew:                           0.361   Prob(JB):                        0.580\n",
      "Kurtosis:                       2.972   Cond. No.                     1.41e+03\n",
      "==============================================================================\n",
      "\n",
      "Warnings:\n",
      "[1] Standard Errors assume that the covariance matrix of the errors is correctly specified.\n",
      "[2] The condition number is large, 1.41e+03. This might indicate that there are\n",
      "strong multicollinearity or other numerical problems.\n"
     ]
    }
   ],
   "source": [
    "## The right way\n",
    "X2 = sm.add_constant(x2)\n",
    "smfit_right2 = smf.OLS(y2, X2).fit()\n",
    "smfit_right2.summary()\n",
    "print(smfit_right2.summary())"
   ]
  },
  {
   "cell_type": "markdown",
   "metadata": {
    "run_control": {
     "frozen": false,
     "read_only": false
    }
   },
   "source": [
    "# 7. now fit the data with WLS weighted least square, a linear fit that takes into account the uncertainties by \"down-weighting\" (considering less important) observations with large uncertainties"
   ]
  },
  {
   "cell_type": "markdown",
   "metadata": {
    "ExecuteTime": {
     "end_time": "2018-11-08T17:02:55.249878Z",
     "start_time": "2018-11-08T17:02:55.203641Z"
    },
    "run_control": {
     "frozen": false,
     "read_only": false
    }
   },
   "source": [
    "you should at this point ask: how can I create weights from my uncertainties? The answer, as often is the case, is not unique. But a rule of thumb is that the weights would be the _inverse_ (remember: larger error must mean smaller weight) of the variance, with is the standard deviation square. Look at the error() function I create and design your weights array according to this rule"
   ]
  },
  {
   "cell_type": "code",
   "execution_count": 18,
   "metadata": {},
   "outputs": [
    {
     "name": "stdout",
     "output_type": "stream",
     "text": [
      "                            WLS Regression Results                            \n",
      "==============================================================================\n",
      "Dep. Variable:                      y   R-squared:                       0.979\n",
      "Model:                            WLS   Adj. R-squared:                  0.978\n",
      "Method:                 Least Squares   F-statistic:                     2210.\n",
      "Date:                Tue, 13 Nov 2018   Prob (F-statistic):           8.43e-42\n",
      "Time:                        23:56:00   Log-Likelihood:                -231.75\n",
      "No. Observations:                  50   AIC:                             467.5\n",
      "Df Residuals:                      48   BIC:                             471.3\n",
      "Df Model:                           1                                         \n",
      "Covariance Type:            nonrobust                                         \n",
      "==============================================================================\n",
      "                 coef    std err          t      P>|t|      [95.0% Conf. Int.]\n",
      "------------------------------------------------------------------------------\n",
      "const        110.1632      7.067     15.587      0.000        95.953   124.373\n",
      "x1             0.6166      0.013     47.007      0.000         0.590     0.643\n",
      "==============================================================================\n",
      "Omnibus:                        1.276   Durbin-Watson:                   2.029\n",
      "Prob(Omnibus):                  0.528   Jarque-Bera (JB):                1.293\n",
      "Skew:                           0.312   Prob(JB):                        0.524\n",
      "Kurtosis:                       2.520   Cond. No.                     1.08e+03\n",
      "==============================================================================\n",
      "\n",
      "Warnings:\n",
      "[1] Standard Errors assume that the covariance matrix of the errors is correctly specified.\n",
      "[2] The condition number is large, 1.08e+03. This might indicate that there are\n",
      "strong multicollinearity or other numerical problems.\n"
     ]
    }
   ],
   "source": [
    "w = (1/errors(x2)) # taking the inverse of errors using the errors function\n",
    "# reference: https://www.statsmodels.org/stable/examples/notebooks/generated/wls.html\n",
    "sm_wls = sm.WLS(y2, X2, weights=w)\n",
    "res_wls = sm_wls.fit()\n",
    "print(res_wls.summary())"
   ]
  },
  {
   "cell_type": "code",
   "execution_count": 19,
   "metadata": {},
   "outputs": [],
   "source": [
    "## the WLS Regression results show better fit."
   ]
  },
  {
   "cell_type": "markdown",
   "metadata": {},
   "source": [
    "# Note: you can also use other statsmodels functions, for example statsmodels.formula.api which allows to pass an equation\n",
    "again, make sure that your formula supports an intercept (no deliverable for this portion, it's up to you to explore the use of this function)"
   ]
  },
  {
   "cell_type": "code",
   "execution_count": 20,
   "metadata": {
    "ExecuteTime": {
     "end_time": "2018-11-08T17:43:22.172119Z",
     "start_time": "2018-11-08T17:43:21.914280Z"
    }
   },
   "outputs": [
    {
     "data": {
      "image/png": "[encoded data removed]",
      "text/plain": [
       "<matplotlib.figure.Figure at 0x7f34b9277048>"
      ]
     },
     "metadata": {},
     "output_type": "display_data"
    }
   ],
   "source": [
    "# statsmodels.formula.api accepts dictionaris, pandas dataframes, and python rec arrays as input: \n",
    "# all data types that host data paired with labels\n",
    "smfmodel = smf.ols('y ~ x + const', data={'x':x, 'y':y, 'const':np.ones(len(x))}).fit()\n",
    "plt.errorbar(x, y, yerr=errors(x), fmt='.')\n",
    "plt.plot(x, smfit_right.fittedvalues, '-', label=\"sm.OLS\")\n",
    "plt.plot(x, smfmodel.fittedvalues, '-', label=\"smf.ols\")\n",
    "plt.xlabel(\"exogenous\")\n",
    "plt.ylabel(\"endogenous\")\n",
    "plt.legend();"
   ]
  },
  {
   "cell_type": "code",
   "execution_count": null,
   "metadata": {},
   "outputs": [],
   "source": []
  },
  {
   "cell_type": "code",
   "execution_count": null,
   "metadata": {},
   "outputs": [],
   "source": []
  }
 ],
 "metadata": {
  "kernelspec": {
   "display_name": "PUI2016_Python3",
   "language": "python",
   "name": "pui2016_python3"
  },
  "language_info": {
   "codemirror_mode": {
    "name": "ipython",
    "version": 3
   },
   "file_extension": ".py",
   "mimetype": "text/x-python",
   "name": "python",
   "nbconvert_exporter": "python",
   "pygments_lexer": "ipython3",
   "version": "3.5.4"
  },
  "toc": {
   "colors": {
    "hover_highlight": "#DAA520",
    "running_highlight": "#FF0000",
    "selected_highlight": "#FFD700"
   },
   "moveMenuLeft": true,
   "nav_menu": {
    "height": "12px",
    "width": "252px"
   },
   "navigate_menu": true,
   "number_sections": true,
   "sideBar": true,
   "threshold": 4,
   "toc_cell": false,
   "toc_section_display": "block",
   "toc_window_display": false
  }
 },
 "nbformat": 4,
 "nbformat_minor": 2
}
